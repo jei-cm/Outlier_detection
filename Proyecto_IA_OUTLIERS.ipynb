{
  "nbformat": 4,
  "nbformat_minor": 0,
  "metadata": {
    "colab": {
      "name": "Proyecto_IA_OUTLIERS",
      "provenance": [],
      "collapsed_sections": [],
      "toc_visible": true,
      "include_colab_link": true
    },
    "kernelspec": {
      "name": "python3",
      "display_name": "Python 3"
    },
    "language_info": {
      "name": "python"
    }
  },
  "cells": [
    {
      "cell_type": "markdown",
      "metadata": {
        "id": "view-in-github",
        "colab_type": "text"
      },
      "source": [
        "<a href=\"https://colab.research.google.com/github/jei-cm/Outlier_detection/blob/main/Proyecto_IA_OUTLIERS.ipynb\" target=\"_parent\"><img src=\"https://colab.research.google.com/assets/colab-badge.svg\" alt=\"Open In Colab\"/></a>"
      ]
    },
    {
      "cell_type": "markdown",
      "metadata": {
        "id": "w-dMXx5vBjHR"
      },
      "source": [
        "# Detección de outliers\n",
        "* Dataset tomado de: https://www.datos.gov.co/Agricultura-y-Desarrollo-RuralResultados-de-An-lisis-de-Laboratorio-Suelos-en-Co/ch4u-f3i5\n",
        "\n",
        "* Integrantes: Juan Pablo Guerrero - Jeimmy Cuitiva Mont \n"
      ]
    },
    {
      "cell_type": "code",
      "metadata": {
        "id": "tiTmsJ17jZ9W"
      },
      "source": [
        "import math\n",
        "import sklearn\n",
        "import numpy as np\n",
        "import pandas as pd \n",
        "import matplotlib.pyplot as plt\n",
        "from sklearn.decomposition import PCA\n",
        "from sklearn.preprocessing import OrdinalEncoder, StandardScaler\n",
        "\n",
        "# metodos de detección de outliers\n",
        "from sklearn import svm\n",
        "from sklearn.ensemble import IsolationForest\n",
        "from sklearn.covariance import EllipticEnvelope\n",
        "from sklearn.neighbors import LocalOutlierFactor"
      ],
      "execution_count": null,
      "outputs": []
    },
    {
      "cell_type": "markdown",
      "metadata": {
        "id": "L47ATNZDYrOU"
      },
      "source": [
        "# **Preprocesamiento de datos:**\n",
        "Se leen los datos del csv, el tratamiento que se le hace a los datos es cambiar todos los valores que dicen ND o No indica por NaNs. Una vez se hace esto, se completan todos los NaNs existentes, para las variables categoricas se llenan con el valor más repetido en cada característica, en el caso de las variables númericas, se rellenan con el promedio de los datos de cada caracteristicas.\n",
        "Es importante resaltar que las variables categoricas se deben convertir a varibles númericas para poder hacer la detección  "
      ]
    },
    {
      "cell_type": "code",
      "metadata": {
        "colab": {
          "base_uri": "https://localhost:8080/",
          "height": 860
        },
        "id": "Ec63TFmT9Tu5",
        "outputId": "971707da-66e4-4087-8961-3f9cd9051708"
      },
      "source": [
        "# Lectura de datos y cambio de Nans\n",
        "data = pd.read_csv(\"Analisis_Suelos_Colombia.csv\", sep=',', header=0, na_values= [\"ND\", \"No indica\", \"NO INDICA\", \"No Indica\", \"no Indica\", \"no indica\", \"ERROR: #N/A\"])\n",
        "# Guardamos los datos en limpio para analisis posteriores\n",
        "data_original = pd.read_csv(\"Analisis_Suelos_Colombia.csv\", sep=',', header=0)\n",
        "data"
      ],
      "execution_count": null,
      "outputs": [
        {
          "output_type": "stream",
          "text": [
            "/usr/local/lib/python3.7/dist-packages/IPython/core/interactiveshell.py:2718: DtypeWarning: Columns (14,22,29,30,31) have mixed types.Specify dtype option on import or set low_memory=False.\n",
            "  interactivity=interactivity, compiler=compiler, result=result)\n",
            "/usr/local/lib/python3.7/dist-packages/IPython/core/interactiveshell.py:2718: DtypeWarning: Columns (14) have mixed types.Specify dtype option on import or set low_memory=False.\n",
            "  interactivity=interactivity, compiler=compiler, result=result)\n"
          ],
          "name": "stderr"
        },
        {
          "output_type": "execute_result",
          "data": {
            "text/html": [
              "<div>\n",
              "<style scoped>\n",
              "    .dataframe tbody tr th:only-of-type {\n",
              "        vertical-align: middle;\n",
              "    }\n",
              "\n",
              "    .dataframe tbody tr th {\n",
              "        vertical-align: top;\n",
              "    }\n",
              "\n",
              "    .dataframe thead th {\n",
              "        text-align: right;\n",
              "    }\n",
              "</style>\n",
              "<table border=\"1\" class=\"dataframe\">\n",
              "  <thead>\n",
              "    <tr style=\"text-align: right;\">\n",
              "      <th></th>\n",
              "      <th>numfila</th>\n",
              "      <th>Departamento</th>\n",
              "      <th>Municipio</th>\n",
              "      <th>Cultivo</th>\n",
              "      <th>Estado</th>\n",
              "      <th>Tiempo Establecimiento</th>\n",
              "      <th>Topografia</th>\n",
              "      <th>Drenaje</th>\n",
              "      <th>Riego</th>\n",
              "      <th>Fertilizantes aplicados</th>\n",
              "      <th>FechaAnalisis</th>\n",
              "      <th>pH agua:suelo 2,5:1,0</th>\n",
              "      <th>Materia orgánica (MO) %</th>\n",
              "      <th>Fósforo (P) Bray II mg/kg</th>\n",
              "      <th>Azufre (S) Fosfato monocalcico mg/kg</th>\n",
              "      <th>Acidez (Al+H) KCL cmol(+)/kg</th>\n",
              "      <th>Aluminio (Al) intercambiable cmol(+)/kg</th>\n",
              "      <th>Calcio (Ca) intercambiable cmol(+)/kg</th>\n",
              "      <th>Magnesio (Mg) intercambiable cmol(+)/kg</th>\n",
              "      <th>Potasio (K) intercambiable cmol(+)/kg</th>\n",
              "      <th>Sodio (Na) intercambiable cmol(+)/kg</th>\n",
              "      <th>capacidad de intercambio cationico (CICE) suma de bases cmol(+)/kg</th>\n",
              "      <th>Conductividad el‚ctrica (CE) relacion 2,5:1,0 dS/m</th>\n",
              "      <th>Hierro (Fe) disponible olsen mg/kg</th>\n",
              "      <th>Cobre (Cu) disponible mg/kg</th>\n",
              "      <th>Manganeso (Mn) disponible Olsen mg/kg</th>\n",
              "      <th>Zinc (Zn) disponible Olsen mg/kg</th>\n",
              "      <th>Boro (B) disponible mg/kg</th>\n",
              "      <th>Hierro (Fe) disponible doble  cido mg/kg</th>\n",
              "      <th>Cobre (Cu) disponible doble acido mg/kg</th>\n",
              "      <th>Manganeso (Mn) disponible doble acido mg/kg</th>\n",
              "      <th>Zinc (Zn) disponible doble  cido mg/kg</th>\n",
              "      <th>Secuencial</th>\n",
              "    </tr>\n",
              "  </thead>\n",
              "  <tbody>\n",
              "    <tr>\n",
              "      <th>0</th>\n",
              "      <td>NaN</td>\n",
              "      <td>CUNDINAMARCA</td>\n",
              "      <td>FUNZA</td>\n",
              "      <td>Uchuva</td>\n",
              "      <td>POR ESTABLECER</td>\n",
              "      <td>NO APLICA</td>\n",
              "      <td>Ondulado</td>\n",
              "      <td>Bueno</td>\n",
              "      <td>NaN</td>\n",
              "      <td>NaN</td>\n",
              "      <td>NaN</td>\n",
              "      <td>5.66</td>\n",
              "      <td>9.706679</td>\n",
              "      <td>5.622298591549295</td>\n",
              "      <td>4.345549738219895</td>\n",
              "      <td>NaN</td>\n",
              "      <td>NaN</td>\n",
              "      <td>4.96569191</td>\n",
              "      <td>0.9788292099999999</td>\n",
              "      <td>0.20453417999999998</td>\n",
              "      <td>0.14592724999999998</td>\n",
              "      <td>6.294983</td>\n",
              "      <td>0.22351319999999997</td>\n",
              "      <td>184.118</td>\n",
              "      <td>&lt;1,00</td>\n",
              "      <td>2.8760000000000003</td>\n",
              "      <td>3.462</td>\n",
              "      <td>0.109442</td>\n",
              "      <td>NaN</td>\n",
              "      <td>NaN</td>\n",
              "      <td>NaN</td>\n",
              "      <td>NaN</td>\n",
              "      <td>NaN</td>\n",
              "    </tr>\n",
              "    <tr>\n",
              "      <th>1</th>\n",
              "      <td>NaN</td>\n",
              "      <td>CUNDINAMARCA</td>\n",
              "      <td>BITUIMA</td>\n",
              "      <td>Citricos</td>\n",
              "      <td>POR ESTABLECER</td>\n",
              "      <td>NO APLICA</td>\n",
              "      <td>Ondulado</td>\n",
              "      <td>Bueno</td>\n",
              "      <td>No cuenta con riego</td>\n",
              "      <td>NaN</td>\n",
              "      <td>NaN</td>\n",
              "      <td>8.08</td>\n",
              "      <td>3.417595</td>\n",
              "      <td>7.570467605633801</td>\n",
              "      <td>6.832460732984293</td>\n",
              "      <td>NaN</td>\n",
              "      <td>NaN</td>\n",
              "      <td>42.704796720000004</td>\n",
              "      <td>1.27535635</td>\n",
              "      <td>0.13121697599999999</td>\n",
              "      <td>0.12028233</td>\n",
              "      <td>44.231652</td>\n",
              "      <td>0.6927323999999999</td>\n",
              "      <td>33.181</td>\n",
              "      <td>3.426</td>\n",
              "      <td>&lt;1,00</td>\n",
              "      <td>90.92600000000002</td>\n",
              "      <td>0.710300</td>\n",
              "      <td>NaN</td>\n",
              "      <td>NaN</td>\n",
              "      <td>NaN</td>\n",
              "      <td>NaN</td>\n",
              "      <td>NaN</td>\n",
              "    </tr>\n",
              "    <tr>\n",
              "      <th>2</th>\n",
              "      <td>NaN</td>\n",
              "      <td>CUNDINAMARCA</td>\n",
              "      <td>VILLAPINZÓN</td>\n",
              "      <td>Pastos-brachiaria</td>\n",
              "      <td>ESTABLECIDO</td>\n",
              "      <td>NaN</td>\n",
              "      <td>Ondulado</td>\n",
              "      <td>Bueno</td>\n",
              "      <td>No cuenta con riego</td>\n",
              "      <td>NaN</td>\n",
              "      <td>NaN</td>\n",
              "      <td>5.87</td>\n",
              "      <td>2.336659</td>\n",
              "      <td>16.901171830985913</td>\n",
              "      <td>14.424083769633508</td>\n",
              "      <td>NaN</td>\n",
              "      <td>NaN</td>\n",
              "      <td>9.59718306</td>\n",
              "      <td>0.9457007199999999</td>\n",
              "      <td>0.194180868</td>\n",
              "      <td>0.13846343</td>\n",
              "      <td>10.875528</td>\n",
              "      <td>0.3344772</td>\n",
              "      <td>670.747</td>\n",
              "      <td>3.7199999999999998</td>\n",
              "      <td>8.481</td>\n",
              "      <td>2.455</td>\n",
              "      <td>0.130901</td>\n",
              "      <td>NaN</td>\n",
              "      <td>NaN</td>\n",
              "      <td>NaN</td>\n",
              "      <td>NaN</td>\n",
              "      <td>NaN</td>\n",
              "    </tr>\n",
              "    <tr>\n",
              "      <th>3</th>\n",
              "      <td>NaN</td>\n",
              "      <td>CUNDINAMARCA</td>\n",
              "      <td>VILLAPINZÓN</td>\n",
              "      <td>Pastos-brachiaria</td>\n",
              "      <td>ESTABLECIDO</td>\n",
              "      <td>NaN</td>\n",
              "      <td>Ondulado</td>\n",
              "      <td>Bueno</td>\n",
              "      <td>No cuenta con riego</td>\n",
              "      <td>NaN</td>\n",
              "      <td>NaN</td>\n",
              "      <td>5.56</td>\n",
              "      <td>6.853757</td>\n",
              "      <td>32.07638309859154</td>\n",
              "      <td>9.581151832460733</td>\n",
              "      <td>NaN</td>\n",
              "      <td>NaN</td>\n",
              "      <td>7.528300300000001</td>\n",
              "      <td>0.8416084699999999</td>\n",
              "      <td>1.5904150199999998</td>\n",
              "      <td>&lt;0,14</td>\n",
              "      <td>10.060324</td>\n",
              "      <td>0.3614256</td>\n",
              "      <td>791.175</td>\n",
              "      <td>6.83</td>\n",
              "      <td>5.694</td>\n",
              "      <td>2.6310000000000002</td>\n",
              "      <td>0.302575</td>\n",
              "      <td>NaN</td>\n",
              "      <td>NaN</td>\n",
              "      <td>NaN</td>\n",
              "      <td>NaN</td>\n",
              "      <td>NaN</td>\n",
              "    </tr>\n",
              "    <tr>\n",
              "      <th>4</th>\n",
              "      <td>NaN</td>\n",
              "      <td>CUNDINAMARCA</td>\n",
              "      <td>BOGOTÁ,  D.C.</td>\n",
              "      <td>Papa de año</td>\n",
              "      <td>POR ESTABLECER</td>\n",
              "      <td>NO APLICA</td>\n",
              "      <td>Pendiente</td>\n",
              "      <td>Bueno</td>\n",
              "      <td>No cuenta con riego</td>\n",
              "      <td>15-15-15, 18-18-18 y 10-30-10</td>\n",
              "      <td>NaN</td>\n",
              "      <td>4.87</td>\n",
              "      <td>16.041251</td>\n",
              "      <td>64.19919999999999</td>\n",
              "      <td>5.523560209424084</td>\n",
              "      <td>5.028454</td>\n",
              "      <td>4.64315</td>\n",
              "      <td>2.23477545</td>\n",
              "      <td>0.34667245</td>\n",
              "      <td>0.31318768799999996</td>\n",
              "      <td>0.15635745999999998</td>\n",
              "      <td>8.079447</td>\n",
              "      <td>0.3741072</td>\n",
              "      <td>1685.377</td>\n",
              "      <td>4.124</td>\n",
              "      <td>17.619</td>\n",
              "      <td>8.567</td>\n",
              "      <td>0.302575</td>\n",
              "      <td>NaN</td>\n",
              "      <td>NaN</td>\n",
              "      <td>NaN</td>\n",
              "      <td>NaN</td>\n",
              "      <td>NaN</td>\n",
              "    </tr>\n",
              "    <tr>\n",
              "      <th>...</th>\n",
              "      <td>...</td>\n",
              "      <td>...</td>\n",
              "      <td>...</td>\n",
              "      <td>...</td>\n",
              "      <td>...</td>\n",
              "      <td>...</td>\n",
              "      <td>...</td>\n",
              "      <td>...</td>\n",
              "      <td>...</td>\n",
              "      <td>...</td>\n",
              "      <td>...</td>\n",
              "      <td>...</td>\n",
              "      <td>...</td>\n",
              "      <td>...</td>\n",
              "      <td>...</td>\n",
              "      <td>...</td>\n",
              "      <td>...</td>\n",
              "      <td>...</td>\n",
              "      <td>...</td>\n",
              "      <td>...</td>\n",
              "      <td>...</td>\n",
              "      <td>...</td>\n",
              "      <td>...</td>\n",
              "      <td>...</td>\n",
              "      <td>...</td>\n",
              "      <td>...</td>\n",
              "      <td>...</td>\n",
              "      <td>...</td>\n",
              "      <td>...</td>\n",
              "      <td>...</td>\n",
              "      <td>...</td>\n",
              "      <td>...</td>\n",
              "      <td>...</td>\n",
              "    </tr>\n",
              "    <tr>\n",
              "      <th>46740</th>\n",
              "      <td>NaN</td>\n",
              "      <td>TOLIMA</td>\n",
              "      <td>ARMERO GUAYABAL</td>\n",
              "      <td>Neem</td>\n",
              "      <td>ESTABLECIDO</td>\n",
              "      <td>de 1 a 5 años</td>\n",
              "      <td>Plano</td>\n",
              "      <td>Buen drenaje</td>\n",
              "      <td>NaN</td>\n",
              "      <td>NaN</td>\n",
              "      <td>NaN</td>\n",
              "      <td>6.81</td>\n",
              "      <td>1.090000</td>\n",
              "      <td>68.6</td>\n",
              "      <td>5.94</td>\n",
              "      <td>NaN</td>\n",
              "      <td>NaN</td>\n",
              "      <td>13.7</td>\n",
              "      <td>3.7</td>\n",
              "      <td>0.7</td>\n",
              "      <td>0.23</td>\n",
              "      <td>18.330000</td>\n",
              "      <td>0.24</td>\n",
              "      <td>22.38</td>\n",
              "      <td>&lt;1,00</td>\n",
              "      <td>&lt;1,00</td>\n",
              "      <td>&lt;1,00</td>\n",
              "      <td>0.270000</td>\n",
              "      <td>NaN</td>\n",
              "      <td>NaN</td>\n",
              "      <td>NaN</td>\n",
              "      <td>NaN</td>\n",
              "      <td>NaN</td>\n",
              "    </tr>\n",
              "    <tr>\n",
              "      <th>46741</th>\n",
              "      <td>NaN</td>\n",
              "      <td>BOYACÁ</td>\n",
              "      <td>DUITAMA</td>\n",
              "      <td>Hortalizas</td>\n",
              "      <td>POR ESTABLECER</td>\n",
              "      <td>NO APLICA</td>\n",
              "      <td>Plano</td>\n",
              "      <td>Buen drenaje</td>\n",
              "      <td>NaN</td>\n",
              "      <td>NaN</td>\n",
              "      <td>NaN</td>\n",
              "      <td>7.16</td>\n",
              "      <td>0.960000</td>\n",
              "      <td>43.82</td>\n",
              "      <td>15.46</td>\n",
              "      <td>NaN</td>\n",
              "      <td>NaN</td>\n",
              "      <td>18.37</td>\n",
              "      <td>0.3</td>\n",
              "      <td>&lt;0,09</td>\n",
              "      <td>0.15</td>\n",
              "      <td>18.900000</td>\n",
              "      <td>0.92</td>\n",
              "      <td>58.14</td>\n",
              "      <td>&lt;1,00</td>\n",
              "      <td>1.79</td>\n",
              "      <td>5.5</td>\n",
              "      <td>0.170000</td>\n",
              "      <td>NaN</td>\n",
              "      <td>NaN</td>\n",
              "      <td>NaN</td>\n",
              "      <td>NaN</td>\n",
              "      <td>NaN</td>\n",
              "    </tr>\n",
              "    <tr>\n",
              "      <th>46742</th>\n",
              "      <td>NaN</td>\n",
              "      <td>CUNDINAMARCA</td>\n",
              "      <td>SASAIMA</td>\n",
              "      <td>Citricos-Limón</td>\n",
              "      <td>POR ESTABLECER</td>\n",
              "      <td>NO APLICA</td>\n",
              "      <td>Ondulado y Pendiente</td>\n",
              "      <td>Buen drenaje</td>\n",
              "      <td>NaN</td>\n",
              "      <td>NaN</td>\n",
              "      <td>NaN</td>\n",
              "      <td>4.19</td>\n",
              "      <td>4.610000</td>\n",
              "      <td>24.13</td>\n",
              "      <td>10.11</td>\n",
              "      <td>9.140000</td>\n",
              "      <td>8.29000</td>\n",
              "      <td>&lt;0,59</td>\n",
              "      <td>&lt;0,20</td>\n",
              "      <td>0.17</td>\n",
              "      <td>&lt;0,14</td>\n",
              "      <td>9.650000</td>\n",
              "      <td>0.24</td>\n",
              "      <td>619.77</td>\n",
              "      <td>8.22</td>\n",
              "      <td>&lt;1,00</td>\n",
              "      <td>2.04</td>\n",
              "      <td>0.260000</td>\n",
              "      <td>NaN</td>\n",
              "      <td>NaN</td>\n",
              "      <td>NaN</td>\n",
              "      <td>NaN</td>\n",
              "      <td>NaN</td>\n",
              "    </tr>\n",
              "    <tr>\n",
              "      <th>46743</th>\n",
              "      <td>NaN</td>\n",
              "      <td>TOLIMA</td>\n",
              "      <td>HERVEO</td>\n",
              "      <td>Aguacate</td>\n",
              "      <td>NaN</td>\n",
              "      <td>NaN</td>\n",
              "      <td>Pendiente moderada</td>\n",
              "      <td>Buen drenaje</td>\n",
              "      <td>NaN</td>\n",
              "      <td>NaN</td>\n",
              "      <td>NaN</td>\n",
              "      <td>5.73</td>\n",
              "      <td>6.410000</td>\n",
              "      <td>5.34</td>\n",
              "      <td>10.25</td>\n",
              "      <td>NaN</td>\n",
              "      <td>NaN</td>\n",
              "      <td>2.29</td>\n",
              "      <td>0.42</td>\n",
              "      <td>0.12</td>\n",
              "      <td>&lt;0,14</td>\n",
              "      <td>2.910000</td>\n",
              "      <td>0.11</td>\n",
              "      <td>75.3</td>\n",
              "      <td>1.53</td>\n",
              "      <td>1.42</td>\n",
              "      <td>&lt;1,00</td>\n",
              "      <td>0.100000</td>\n",
              "      <td>NaN</td>\n",
              "      <td>NaN</td>\n",
              "      <td>NaN</td>\n",
              "      <td>NaN</td>\n",
              "      <td>NaN</td>\n",
              "    </tr>\n",
              "    <tr>\n",
              "      <th>46744</th>\n",
              "      <td>NaN</td>\n",
              "      <td>NORTE DE SANTANDER</td>\n",
              "      <td>CÚCUTA</td>\n",
              "      <td>Sacha Inchi</td>\n",
              "      <td>POR ESTABLECER</td>\n",
              "      <td>NO APLICA</td>\n",
              "      <td>Ligeramente ondulado</td>\n",
              "      <td>Buen drenaje</td>\n",
              "      <td>Aspersión</td>\n",
              "      <td>No ha aplicado fertilizantes</td>\n",
              "      <td>NaN</td>\n",
              "      <td>4.68</td>\n",
              "      <td>4.100000</td>\n",
              "      <td>16.23</td>\n",
              "      <td>4.16</td>\n",
              "      <td>2.610000</td>\n",
              "      <td>2.09000</td>\n",
              "      <td>1</td>\n",
              "      <td>0.37</td>\n",
              "      <td>0.15</td>\n",
              "      <td>&lt;0,14</td>\n",
              "      <td>4.210000</td>\n",
              "      <td>0.21</td>\n",
              "      <td>701.39</td>\n",
              "      <td>&lt;1,00</td>\n",
              "      <td>2.33</td>\n",
              "      <td>3.35</td>\n",
              "      <td>0.180000</td>\n",
              "      <td>NaN</td>\n",
              "      <td>NaN</td>\n",
              "      <td>NaN</td>\n",
              "      <td>NaN</td>\n",
              "      <td>NaN</td>\n",
              "    </tr>\n",
              "  </tbody>\n",
              "</table>\n",
              "<p>46745 rows × 33 columns</p>\n",
              "</div>"
            ],
            "text/plain": [
              "       numfila  ... Secuencial\n",
              "0          NaN  ...        NaN\n",
              "1          NaN  ...        NaN\n",
              "2          NaN  ...        NaN\n",
              "3          NaN  ...        NaN\n",
              "4          NaN  ...        NaN\n",
              "...        ...  ...        ...\n",
              "46740      NaN  ...        NaN\n",
              "46741      NaN  ...        NaN\n",
              "46742      NaN  ...        NaN\n",
              "46743      NaN  ...        NaN\n",
              "46744      NaN  ...        NaN\n",
              "\n",
              "[46745 rows x 33 columns]"
            ]
          },
          "metadata": {
            "tags": []
          },
          "execution_count": 153
        }
      ]
    },
    {
      "cell_type": "code",
      "metadata": {
        "id": "tgGRZ3WlL42-"
      },
      "source": [
        "# Se completan los NaNs categoricos con la moda de la caracteristica\n",
        "data[[\"Riego\"]] = data[[\"Riego\"]].apply(lambda x: x.fillna(x.value_counts().index[0]))\n",
        "data[[\"Estado\"]] = data[[\"Estado\"]].apply(lambda x: x.fillna(x.value_counts().index[0]))\n",
        "data[[\"Cultivo\"]] = data[[\"Cultivo\"]].apply(lambda x: x.fillna(x.value_counts().index[0]))\n",
        "data[[\"Drenaje\"]] = data[[\"Drenaje\"]].apply(lambda x: x.fillna(x.value_counts().index[0]))\n",
        "data[[\"Topografia\"]] = data[[\"Topografia\"]].apply(lambda x: x.fillna(x.value_counts().index[0]))\n",
        "data[[\"Tiempo Establecimiento\"]] = data[[\"Tiempo Establecimiento\"]].apply(lambda x: x.fillna(x.value_counts().index[0]))\n",
        "data[[\"Fertilizantes aplicados\"]] = data[[\"Fertilizantes aplicados\"]].apply(lambda x: x.fillna(x.value_counts().index[0]))\n",
        "\n",
        "for n in [11, 13, 14, 17, 18, 19, 20, 22, 23, 24, 25, 26, 29, 30, 31]: # se limpian los datos numericos, y se saturan los datos que representan intervalos \n",
        "  data[data.columns[n]] = data[data.columns[n]].astype(dtype=\"str\")\n",
        "  data[data.columns[n]] = data[data.columns[n]].map(lambda x: x.lstrip('<')) # <0,3 => 0,3\n",
        "  data[data.columns[n]] = data[data.columns[n]].str.replace(\"MI\",\"\")\n",
        "  data[data.columns[n]] = data[data.columns[n]].str.replace(\",\",\".\") # 0,001 => 0.001\n",
        "  data[data.columns[n]] = pd.to_numeric(data[data.columns[n]], errors=\"coerce\")\n",
        "\n",
        "#se completan los NaNs numericos con la media de la caracteristica \n",
        "for n in range(11,32):\n",
        "  data[data.columns[n]].fillna(value=data[data.columns[n]].mean(), inplace=True)\n",
        "\n",
        "data = data.drop([\"numfila\" , \"FechaAnalisis\", \"Secuencial\"], axis=1) # se eliminan columnas vacias "
      ],
      "execution_count": null,
      "outputs": []
    },
    {
      "cell_type": "code",
      "metadata": {
        "colab": {
          "base_uri": "https://localhost:8080/"
        },
        "id": "c8RTNJDvNu1Q",
        "outputId": "ebb34bbe-cb7a-483f-a865-5de36bafba19"
      },
      "source": [
        "data.to_csv(\"Dataset_tratado.csv\") # Se guarda el dataset limpio \n",
        "data.info() # aquí podemos observar todas las caracteristicas completas"
      ],
      "execution_count": null,
      "outputs": [
        {
          "output_type": "stream",
          "text": [
            "<class 'pandas.core.frame.DataFrame'>\n",
            "RangeIndex: 46745 entries, 0 to 46744\n",
            "Data columns (total 30 columns):\n",
            " #   Column                                                              Non-Null Count  Dtype  \n",
            "---  ------                                                              --------------  -----  \n",
            " 0   Departamento                                                        46745 non-null  object \n",
            " 1   Municipio                                                           46745 non-null  object \n",
            " 2   Cultivo                                                             46745 non-null  object \n",
            " 3   Estado                                                              46745 non-null  object \n",
            " 4   Tiempo Establecimiento                                              46745 non-null  object \n",
            " 5   Topografia                                                          46745 non-null  object \n",
            " 6   Drenaje                                                             46745 non-null  object \n",
            " 7   Riego                                                               46745 non-null  object \n",
            " 8   Fertilizantes aplicados                                             46745 non-null  object \n",
            " 9   pH agua:suelo 2,5:1,0                                               46745 non-null  float64\n",
            " 10  Materia orgánica (MO) %                                             46745 non-null  float64\n",
            " 11  Fósforo (P) Bray II mg/kg                                           46745 non-null  float64\n",
            " 12  Azufre (S) Fosfato monocalcico mg/kg                                46745 non-null  float64\n",
            " 13  Acidez (Al+H) KCL cmol(+)/kg                                        46745 non-null  float64\n",
            " 14  Aluminio (Al) intercambiable cmol(+)/kg                             46745 non-null  float64\n",
            " 15  Calcio (Ca) intercambiable cmol(+)/kg                               46745 non-null  float64\n",
            " 16  Magnesio (Mg) intercambiable cmol(+)/kg                             46745 non-null  float64\n",
            " 17  Potasio (K) intercambiable cmol(+)/kg                               46745 non-null  float64\n",
            " 18  Sodio (Na) intercambiable cmol(+)/kg                                46745 non-null  float64\n",
            " 19  capacidad de intercambio cationico (CICE) suma de bases cmol(+)/kg  46745 non-null  float64\n",
            " 20  Conductividad el‚ctrica (CE) relacion 2,5:1,0 dS/m                  46745 non-null  float64\n",
            " 21  Hierro (Fe) disponible olsen mg/kg                                  46745 non-null  float64\n",
            " 22  Cobre (Cu) disponible mg/kg                                         46745 non-null  float64\n",
            " 23  Manganeso (Mn) disponible Olsen mg/kg                               46745 non-null  float64\n",
            " 24  Zinc (Zn) disponible Olsen mg/kg                                    46745 non-null  float64\n",
            " 25  Boro (B) disponible mg/kg                                           46745 non-null  float64\n",
            " 26  Hierro (Fe) disponible doble  cido mg/kg                            46745 non-null  float64\n",
            " 27  Cobre (Cu) disponible doble acido mg/kg                             46745 non-null  float64\n",
            " 28  Manganeso (Mn) disponible doble acido mg/kg                         46745 non-null  float64\n",
            " 29  Zinc (Zn) disponible doble  cido mg/kg                              46745 non-null  float64\n",
            "dtypes: float64(21), object(9)\n",
            "memory usage: 10.7+ MB\n"
          ],
          "name": "stdout"
        }
      ]
    },
    {
      "cell_type": "code",
      "metadata": {
        "id": "RLig0bEFcQ7c",
        "colab": {
          "base_uri": "https://localhost:8080/",
          "height": 264
        },
        "outputId": "16351611-3493-4089-cf9d-a64e88113a93"
      },
      "source": [
        "# describe es una función para visualizar las clases existentes dentro de una característica\n",
        "# esto se uso para ver si existian datos dentro de No indica, ND, etc. \n",
        "data.describe(include=[\"object\"])"
      ],
      "execution_count": null,
      "outputs": [
        {
          "output_type": "execute_result",
          "data": {
            "text/html": [
              "<div>\n",
              "<style scoped>\n",
              "    .dataframe tbody tr th:only-of-type {\n",
              "        vertical-align: middle;\n",
              "    }\n",
              "\n",
              "    .dataframe tbody tr th {\n",
              "        vertical-align: top;\n",
              "    }\n",
              "\n",
              "    .dataframe thead th {\n",
              "        text-align: right;\n",
              "    }\n",
              "</style>\n",
              "<table border=\"1\" class=\"dataframe\">\n",
              "  <thead>\n",
              "    <tr style=\"text-align: right;\">\n",
              "      <th></th>\n",
              "      <th>Departamento</th>\n",
              "      <th>Municipio</th>\n",
              "      <th>Cultivo</th>\n",
              "      <th>Estado</th>\n",
              "      <th>Tiempo Establecimiento</th>\n",
              "      <th>Topografia</th>\n",
              "      <th>Drenaje</th>\n",
              "      <th>Riego</th>\n",
              "      <th>Fertilizantes aplicados</th>\n",
              "    </tr>\n",
              "  </thead>\n",
              "  <tbody>\n",
              "    <tr>\n",
              "      <th>count</th>\n",
              "      <td>46745</td>\n",
              "      <td>46745</td>\n",
              "      <td>46745</td>\n",
              "      <td>46745</td>\n",
              "      <td>46745</td>\n",
              "      <td>46745</td>\n",
              "      <td>46745</td>\n",
              "      <td>46745</td>\n",
              "      <td>46745</td>\n",
              "    </tr>\n",
              "    <tr>\n",
              "      <th>unique</th>\n",
              "      <td>31</td>\n",
              "      <td>908</td>\n",
              "      <td>236</td>\n",
              "      <td>2</td>\n",
              "      <td>5</td>\n",
              "      <td>11</td>\n",
              "      <td>7</td>\n",
              "      <td>11</td>\n",
              "      <td>986</td>\n",
              "    </tr>\n",
              "    <tr>\n",
              "      <th>top</th>\n",
              "      <td>CUNDINAMARCA</td>\n",
              "      <td>VILLAVICENCIO</td>\n",
              "      <td>Cacao</td>\n",
              "      <td>ESTABLECIDO</td>\n",
              "      <td>NO APLICA</td>\n",
              "      <td>Plano</td>\n",
              "      <td>Bueno</td>\n",
              "      <td>No cuenta con riego</td>\n",
              "      <td>No ha aplicado fertilizantes</td>\n",
              "    </tr>\n",
              "    <tr>\n",
              "      <th>freq</th>\n",
              "      <td>9169</td>\n",
              "      <td>880</td>\n",
              "      <td>7941</td>\n",
              "      <td>30323</td>\n",
              "      <td>25781</td>\n",
              "      <td>20683</td>\n",
              "      <td>36541</td>\n",
              "      <td>39007</td>\n",
              "      <td>39190</td>\n",
              "    </tr>\n",
              "  </tbody>\n",
              "</table>\n",
              "</div>"
            ],
            "text/plain": [
              "        Departamento  ...       Fertilizantes aplicados\n",
              "count          46745  ...                         46745\n",
              "unique            31  ...                           986\n",
              "top     CUNDINAMARCA  ...  No ha aplicado fertilizantes\n",
              "freq            9169  ...                         39190\n",
              "\n",
              "[4 rows x 9 columns]"
            ]
          },
          "metadata": {
            "tags": []
          },
          "execution_count": 156
        }
      ]
    },
    {
      "cell_type": "code",
      "metadata": {
        "colab": {
          "base_uri": "https://localhost:8080/",
          "height": 423
        },
        "id": "eESPTBe1bbDL",
        "outputId": "95143845-2982-468d-dfc4-63c762aec871"
      },
      "source": [
        "# describen las caracteristicas numericas para observar sus estadisticas \n",
        "data.describe(include=[\"float64\"])"
      ],
      "execution_count": null,
      "outputs": [
        {
          "output_type": "execute_result",
          "data": {
            "text/html": [
              "<div>\n",
              "<style scoped>\n",
              "    .dataframe tbody tr th:only-of-type {\n",
              "        vertical-align: middle;\n",
              "    }\n",
              "\n",
              "    .dataframe tbody tr th {\n",
              "        vertical-align: top;\n",
              "    }\n",
              "\n",
              "    .dataframe thead th {\n",
              "        text-align: right;\n",
              "    }\n",
              "</style>\n",
              "<table border=\"1\" class=\"dataframe\">\n",
              "  <thead>\n",
              "    <tr style=\"text-align: right;\">\n",
              "      <th></th>\n",
              "      <th>pH agua:suelo 2,5:1,0</th>\n",
              "      <th>Materia orgánica (MO) %</th>\n",
              "      <th>Fósforo (P) Bray II mg/kg</th>\n",
              "      <th>Azufre (S) Fosfato monocalcico mg/kg</th>\n",
              "      <th>Acidez (Al+H) KCL cmol(+)/kg</th>\n",
              "      <th>Aluminio (Al) intercambiable cmol(+)/kg</th>\n",
              "      <th>Calcio (Ca) intercambiable cmol(+)/kg</th>\n",
              "      <th>Magnesio (Mg) intercambiable cmol(+)/kg</th>\n",
              "      <th>Potasio (K) intercambiable cmol(+)/kg</th>\n",
              "      <th>Sodio (Na) intercambiable cmol(+)/kg</th>\n",
              "      <th>capacidad de intercambio cationico (CICE) suma de bases cmol(+)/kg</th>\n",
              "      <th>Conductividad el‚ctrica (CE) relacion 2,5:1,0 dS/m</th>\n",
              "      <th>Hierro (Fe) disponible olsen mg/kg</th>\n",
              "      <th>Cobre (Cu) disponible mg/kg</th>\n",
              "      <th>Manganeso (Mn) disponible Olsen mg/kg</th>\n",
              "      <th>Zinc (Zn) disponible Olsen mg/kg</th>\n",
              "      <th>Boro (B) disponible mg/kg</th>\n",
              "      <th>Hierro (Fe) disponible doble  cido mg/kg</th>\n",
              "      <th>Cobre (Cu) disponible doble acido mg/kg</th>\n",
              "      <th>Manganeso (Mn) disponible doble acido mg/kg</th>\n",
              "      <th>Zinc (Zn) disponible doble  cido mg/kg</th>\n",
              "    </tr>\n",
              "  </thead>\n",
              "  <tbody>\n",
              "    <tr>\n",
              "      <th>count</th>\n",
              "      <td>46745.000000</td>\n",
              "      <td>46745.000000</td>\n",
              "      <td>46745.000000</td>\n",
              "      <td>46745.000000</td>\n",
              "      <td>46745.000000</td>\n",
              "      <td>46745.000000</td>\n",
              "      <td>46745.000000</td>\n",
              "      <td>46745.000000</td>\n",
              "      <td>46745.000000</td>\n",
              "      <td>46745.000000</td>\n",
              "      <td>46745.000000</td>\n",
              "      <td>46745.000000</td>\n",
              "      <td>46745.000000</td>\n",
              "      <td>46745.000000</td>\n",
              "      <td>46745.000000</td>\n",
              "      <td>46745.000000</td>\n",
              "      <td>46745.000000</td>\n",
              "      <td>46745.000000</td>\n",
              "      <td>46745.000000</td>\n",
              "      <td>46745.000000</td>\n",
              "      <td>46745.000000</td>\n",
              "    </tr>\n",
              "    <tr>\n",
              "      <th>mean</th>\n",
              "      <td>5.685422</td>\n",
              "      <td>5.065328</td>\n",
              "      <td>34.364728</td>\n",
              "      <td>13.784466</td>\n",
              "      <td>2.085799</td>\n",
              "      <td>1.649642</td>\n",
              "      <td>6.905377</td>\n",
              "      <td>2.184502</td>\n",
              "      <td>0.396901</td>\n",
              "      <td>0.200660</td>\n",
              "      <td>10.685826</td>\n",
              "      <td>0.442381</td>\n",
              "      <td>287.282955</td>\n",
              "      <td>3.443558</td>\n",
              "      <td>7.965979</td>\n",
              "      <td>4.460861</td>\n",
              "      <td>0.273698</td>\n",
              "      <td>64.963030</td>\n",
              "      <td>1.372805</td>\n",
              "      <td>11.609078</td>\n",
              "      <td>2.719156</td>\n",
              "    </tr>\n",
              "    <tr>\n",
              "      <th>std</th>\n",
              "      <td>0.923248</td>\n",
              "      <td>5.087316</td>\n",
              "      <td>80.927758</td>\n",
              "      <td>51.884707</td>\n",
              "      <td>1.392647</td>\n",
              "      <td>1.187653</td>\n",
              "      <td>7.779912</td>\n",
              "      <td>2.751451</td>\n",
              "      <td>0.687893</td>\n",
              "      <td>0.471936</td>\n",
              "      <td>9.367072</td>\n",
              "      <td>1.115211</td>\n",
              "      <td>393.466767</td>\n",
              "      <td>4.600688</td>\n",
              "      <td>16.388550</td>\n",
              "      <td>12.620983</td>\n",
              "      <td>0.334966</td>\n",
              "      <td>15.658626</td>\n",
              "      <td>0.185824</td>\n",
              "      <td>3.943155</td>\n",
              "      <td>1.325600</td>\n",
              "    </tr>\n",
              "    <tr>\n",
              "      <th>min</th>\n",
              "      <td>3.440000</td>\n",
              "      <td>-0.100000</td>\n",
              "      <td>0.088036</td>\n",
              "      <td>0.010000</td>\n",
              "      <td>0.000000</td>\n",
              "      <td>0.000000</td>\n",
              "      <td>0.028436</td>\n",
              "      <td>0.006155</td>\n",
              "      <td>0.005064</td>\n",
              "      <td>0.000000</td>\n",
              "      <td>0.196087</td>\n",
              "      <td>0.010000</td>\n",
              "      <td>0.100000</td>\n",
              "      <td>0.036000</td>\n",
              "      <td>0.112000</td>\n",
              "      <td>0.020000</td>\n",
              "      <td>0.005751</td>\n",
              "      <td>1.240000</td>\n",
              "      <td>0.160000</td>\n",
              "      <td>0.080000</td>\n",
              "      <td>0.040000</td>\n",
              "    </tr>\n",
              "    <tr>\n",
              "      <th>25%</th>\n",
              "      <td>5.000000</td>\n",
              "      <td>1.925183</td>\n",
              "      <td>3.870000</td>\n",
              "      <td>3.787938</td>\n",
              "      <td>1.625810</td>\n",
              "      <td>1.240000</td>\n",
              "      <td>1.636310</td>\n",
              "      <td>0.458911</td>\n",
              "      <td>0.129139</td>\n",
              "      <td>0.087040</td>\n",
              "      <td>4.436576</td>\n",
              "      <td>0.155350</td>\n",
              "      <td>62.430000</td>\n",
              "      <td>1.300000</td>\n",
              "      <td>2.235597</td>\n",
              "      <td>1.000000</td>\n",
              "      <td>0.127581</td>\n",
              "      <td>64.963030</td>\n",
              "      <td>1.372805</td>\n",
              "      <td>11.609078</td>\n",
              "      <td>2.719156</td>\n",
              "    </tr>\n",
              "    <tr>\n",
              "      <th>50%</th>\n",
              "      <td>5.520000</td>\n",
              "      <td>3.210077</td>\n",
              "      <td>9.004298</td>\n",
              "      <td>6.197227</td>\n",
              "      <td>2.085799</td>\n",
              "      <td>1.649642</td>\n",
              "      <td>4.471007</td>\n",
              "      <td>1.171920</td>\n",
              "      <td>0.245722</td>\n",
              "      <td>0.140000</td>\n",
              "      <td>7.744804</td>\n",
              "      <td>0.237350</td>\n",
              "      <td>162.461538</td>\n",
              "      <td>2.447000</td>\n",
              "      <td>4.570000</td>\n",
              "      <td>1.814070</td>\n",
              "      <td>0.203431</td>\n",
              "      <td>64.963030</td>\n",
              "      <td>1.372805</td>\n",
              "      <td>11.609078</td>\n",
              "      <td>2.719156</td>\n",
              "    </tr>\n",
              "    <tr>\n",
              "      <th>75%</th>\n",
              "      <td>6.220000</td>\n",
              "      <td>6.181102</td>\n",
              "      <td>30.023883</td>\n",
              "      <td>11.273698</td>\n",
              "      <td>2.085799</td>\n",
              "      <td>1.649642</td>\n",
              "      <td>9.451492</td>\n",
              "      <td>2.686958</td>\n",
              "      <td>0.476800</td>\n",
              "      <td>0.160795</td>\n",
              "      <td>13.873440</td>\n",
              "      <td>0.414100</td>\n",
              "      <td>353.474000</td>\n",
              "      <td>3.984000</td>\n",
              "      <td>8.000000</td>\n",
              "      <td>4.460861</td>\n",
              "      <td>0.323507</td>\n",
              "      <td>64.963030</td>\n",
              "      <td>1.372805</td>\n",
              "      <td>11.609078</td>\n",
              "      <td>2.719156</td>\n",
              "    </tr>\n",
              "    <tr>\n",
              "      <th>max</th>\n",
              "      <td>10.260000</td>\n",
              "      <td>68.089436</td>\n",
              "      <td>3015.628330</td>\n",
              "      <td>4862.835570</td>\n",
              "      <td>28.306478</td>\n",
              "      <td>25.812844</td>\n",
              "      <td>137.179860</td>\n",
              "      <td>30.658517</td>\n",
              "      <td>88.251964</td>\n",
              "      <td>35.937241</td>\n",
              "      <td>140.279152</td>\n",
              "      <td>88.118098</td>\n",
              "      <td>7972.920000</td>\n",
              "      <td>221.153925</td>\n",
              "      <td>883.370000</td>\n",
              "      <td>708.644000</td>\n",
              "      <td>27.843566</td>\n",
              "      <td>1263.212800</td>\n",
              "      <td>9.852000</td>\n",
              "      <td>208.800000</td>\n",
              "      <td>98.000000</td>\n",
              "    </tr>\n",
              "  </tbody>\n",
              "</table>\n",
              "</div>"
            ],
            "text/plain": [
              "       pH agua:suelo 2,5:1,0  ...  Zinc (Zn) disponible doble  cido mg/kg\n",
              "count           46745.000000  ...                            46745.000000\n",
              "mean                5.685422  ...                                2.719156\n",
              "std                 0.923248  ...                                1.325600\n",
              "min                 3.440000  ...                                0.040000\n",
              "25%                 5.000000  ...                                2.719156\n",
              "50%                 5.520000  ...                                2.719156\n",
              "75%                 6.220000  ...                                2.719156\n",
              "max                10.260000  ...                               98.000000\n",
              "\n",
              "[8 rows x 21 columns]"
            ]
          },
          "metadata": {
            "tags": []
          },
          "execution_count": 157
        }
      ]
    },
    {
      "cell_type": "code",
      "metadata": {
        "id": "QpQV3nMGTP_8",
        "colab": {
          "base_uri": "https://localhost:8080/"
        },
        "outputId": "d466351f-105a-41c6-cc45-6104f490e62a"
      },
      "source": [
        "data[\"Departamento\"].value_counts()"
      ],
      "execution_count": null,
      "outputs": [
        {
          "output_type": "execute_result",
          "data": {
            "text/plain": [
              "CUNDINAMARCA          9169\n",
              "VALLE DEL CAUCA       8110\n",
              "ANTIOQUIA             3500\n",
              "META                  3184\n",
              "BOYACÁ                2905\n",
              "NARIÑO                2411\n",
              "NORTE DE SANTANDER    2082\n",
              "SANTANDER             1698\n",
              "CÓRDOBA               1620\n",
              "TOLIMA                1616\n",
              "BOLÍVAR               1390\n",
              "CAUCA                 1285\n",
              "PUTUMAYO              1013\n",
              "CESAR                 1001\n",
              "CAQUETÁ                882\n",
              "CASANARE               814\n",
              "HUILA                  806\n",
              "MAGDALENA              611\n",
              "LA GUAJIRA             579\n",
              "SUCRE                  431\n",
              "ATLÁNTICO              413\n",
              "CALDAS                 331\n",
              "GUAVIARE               266\n",
              "RISARALDA              181\n",
              "ARAUCA                 167\n",
              "VICHADA                 99\n",
              "QUINDIO                 73\n",
              "AMAZONAS                53\n",
              "GUAINÍA                 20\n",
              "CHOCÓ                   19\n",
              "BOGOTÁ, D.C.            16\n",
              "Name: Departamento, dtype: int64"
            ]
          },
          "metadata": {
            "tags": []
          },
          "execution_count": 158
        }
      ]
    },
    {
      "cell_type": "code",
      "metadata": {
        "id": "5tRDGH9-bh8K",
        "colab": {
          "base_uri": "https://localhost:8080/"
        },
        "outputId": "c1440a12-4f59-4e42-be82-6918f2605e39"
      },
      "source": [
        "data[\"Municipio\"].value_counts()"
      ],
      "execution_count": null,
      "outputs": [
        {
          "output_type": "execute_result",
          "data": {
            "text/plain": [
              "VILLAVICENCIO           880\n",
              "CÚCUTA                  856\n",
              "PALMIRA                 782\n",
              "RIONEGRO                712\n",
              "CERETÉ                  629\n",
              "                       ... \n",
              "ENCISO                    1\n",
              "HATO                      1\n",
              "AMBALEMA                  1\n",
              "SAN LUIS DE CUBARRAL      1\n",
              "CHÁMEZA                   1\n",
              "Name: Municipio, Length: 908, dtype: int64"
            ]
          },
          "metadata": {
            "tags": []
          },
          "execution_count": 159
        }
      ]
    },
    {
      "cell_type": "code",
      "metadata": {
        "id": "YufUEUmbczNJ",
        "colab": {
          "base_uri": "https://localhost:8080/"
        },
        "outputId": "832bfd8d-e8cb-41a1-e827-8e3302168f42"
      },
      "source": [
        "data[\"Cultivo\"].value_counts()"
      ],
      "execution_count": null,
      "outputs": [
        {
          "output_type": "execute_result",
          "data": {
            "text/plain": [
              "Cacao                                       7941\n",
              "Pastos                                      5527\n",
              "Aguacate                                    3866\n",
              "Caña panelera/azucar                        2216\n",
              "Café                                        2164\n",
              "                                            ... \n",
              "Caña/forrajera                                 1\n",
              "Forestal-Flor morado                           1\n",
              "Zapote                                         1\n",
              "Aromaticas-Cidron                              1\n",
              "flores Ornamentales-Flor ave del paraiso       1\n",
              "Name: Cultivo, Length: 236, dtype: int64"
            ]
          },
          "metadata": {
            "tags": []
          },
          "execution_count": 160
        }
      ]
    },
    {
      "cell_type": "code",
      "metadata": {
        "id": "9yWglZqLc0_U",
        "colab": {
          "base_uri": "https://localhost:8080/"
        },
        "outputId": "a4c7c63d-f4e0-4e06-c5d1-37358a026210"
      },
      "source": [
        "data[\"Estado\"].value_counts()"
      ],
      "execution_count": null,
      "outputs": [
        {
          "output_type": "execute_result",
          "data": {
            "text/plain": [
              "ESTABLECIDO       30323\n",
              "POR ESTABLECER    16422\n",
              "Name: Estado, dtype: int64"
            ]
          },
          "metadata": {
            "tags": []
          },
          "execution_count": 161
        }
      ]
    },
    {
      "cell_type": "code",
      "metadata": {
        "id": "08eDZrgnc27S",
        "colab": {
          "base_uri": "https://localhost:8080/"
        },
        "outputId": "cbb2a1f9-52ad-4c0f-e02c-4c043cf228a7"
      },
      "source": [
        "data[\"Tiempo Establecimiento\"].value_counts()"
      ],
      "execution_count": null,
      "outputs": [
        {
          "output_type": "execute_result",
          "data": {
            "text/plain": [
              "NO APLICA         25781\n",
              "de 1 a 5 años      8403\n",
              "de 0 a 1 año       4974\n",
              "mas de 10 años     3984\n",
              "de 5 a 10 años     3603\n",
              "Name: Tiempo Establecimiento, dtype: int64"
            ]
          },
          "metadata": {
            "tags": []
          },
          "execution_count": 162
        }
      ]
    },
    {
      "cell_type": "code",
      "metadata": {
        "id": "iXI0v2q5c6PN",
        "colab": {
          "base_uri": "https://localhost:8080/"
        },
        "outputId": "115bc7aa-5a65-42aa-d5da-e310d6c8f658"
      },
      "source": [
        "data[\"Topografia\"].value_counts()"
      ],
      "execution_count": null,
      "outputs": [
        {
          "output_type": "execute_result",
          "data": {
            "text/plain": [
              "Plano                     20683\n",
              "Ondulado                  10980\n",
              "Pendiente                 10187\n",
              "Moderadamente ondulado     2262\n",
              "Pendiente moderada         2124\n",
              "Ligeramente ondulado        271\n",
              "Pendiente leve              101\n",
              "Ondulado y Pendiente         65\n",
              "Pendiente fuerte             30\n",
              "Plano y ondulado             29\n",
              "Plano y pendiente            13\n",
              "Name: Topografia, dtype: int64"
            ]
          },
          "metadata": {
            "tags": []
          },
          "execution_count": 163
        }
      ]
    },
    {
      "cell_type": "code",
      "metadata": {
        "id": "T6qAV4tOc8mZ",
        "colab": {
          "base_uri": "https://localhost:8080/"
        },
        "outputId": "4c0a215e-7ad4-4870-cf20-ee82fcf5a908"
      },
      "source": [
        "data[\"Drenaje\"].value_counts()"
      ],
      "execution_count": null,
      "outputs": [
        {
          "output_type": "execute_result",
          "data": {
            "text/plain": [
              "Bueno               36541\n",
              "Regular              6788\n",
              "Buen drenaje         1762\n",
              "Regular drenaje       834\n",
              "Malo                  757\n",
              "Mal drenaje            61\n",
              "Muy buen drenaje        2\n",
              "Name: Drenaje, dtype: int64"
            ]
          },
          "metadata": {
            "tags": []
          },
          "execution_count": 164
        }
      ]
    },
    {
      "cell_type": "code",
      "metadata": {
        "id": "FSA-CbqQc-Qy",
        "colab": {
          "base_uri": "https://localhost:8080/"
        },
        "outputId": "d874692b-9a3b-40f5-fab6-11329ae403f3"
      },
      "source": [
        "data[\"Riego\"].value_counts()"
      ],
      "execution_count": null,
      "outputs": [
        {
          "output_type": "execute_result",
          "data": {
            "text/plain": [
              "No cuenta con riego     39007\n",
              "Aspersión                2761\n",
              "Gravedad                 2231\n",
              "Goteo                    2010\n",
              "Manguera                  573\n",
              "Aspersión y Goteo          61\n",
              "Por Inundación             46\n",
              "Cañón                      36\n",
              "Goteo y Gravedad            8\n",
              "Aspersión y Gravedad        7\n",
              "Microaspersión              5\n",
              "Name: Riego, dtype: int64"
            ]
          },
          "metadata": {
            "tags": []
          },
          "execution_count": 165
        }
      ]
    },
    {
      "cell_type": "code",
      "metadata": {
        "id": "sd-4A1BGdAwA",
        "colab": {
          "base_uri": "https://localhost:8080/"
        },
        "outputId": "2bcba627-ee7f-4830-dbeb-01c3e73caad2"
      },
      "source": [
        "data[\"Fertilizantes aplicados\"].value_counts()"
      ],
      "execution_count": null,
      "outputs": [
        {
          "output_type": "execute_result",
          "data": {
            "text/plain": [
              "No ha aplicado fertilizantes             39190\n",
              "15-15-15                                   875\n",
              "Abono orgánico                             610\n",
              "Urea                                       463\n",
              "17-6-18-2                                  271\n",
              "                                         ...  \n",
              "15-15-15, Nitrato de calcio y Menores        1\n",
              "10-30-10 y Boro                              1\n",
              "26-4-4                                       1\n",
              "35-10-5 y Urea                               1\n",
              "KCl y Cal dolomita                           1\n",
              "Name: Fertilizantes aplicados, Length: 986, dtype: int64"
            ]
          },
          "metadata": {
            "tags": []
          },
          "execution_count": 166
        }
      ]
    },
    {
      "cell_type": "code",
      "metadata": {
        "colab": {
          "base_uri": "https://localhost:8080/",
          "height": 223
        },
        "id": "nLASC4heOo-t",
        "outputId": "7008b4b7-492a-4bac-8d1d-850da9ba3df3"
      },
      "source": [
        "# Variables categoricas se cambian a númericas usando OrdinalEncoder\n",
        "categorical = [\"Departamento\",\"Municipio\",\"Cultivo\",\"Estado\",\"Tiempo Establecimiento\",\"Topografia\",\"Drenaje\",\"Riego\",\"Fertilizantes aplicados\"]\n",
        "enc = OrdinalEncoder()\n",
        "enc.fit(data[categorical])\n",
        "data[categorical] = enc.transform(data[categorical])\n",
        "data[categorical].head()"
      ],
      "execution_count": null,
      "outputs": [
        {
          "output_type": "execute_result",
          "data": {
            "text/html": [
              "<div>\n",
              "<style scoped>\n",
              "    .dataframe tbody tr th:only-of-type {\n",
              "        vertical-align: middle;\n",
              "    }\n",
              "\n",
              "    .dataframe tbody tr th {\n",
              "        vertical-align: top;\n",
              "    }\n",
              "\n",
              "    .dataframe thead th {\n",
              "        text-align: right;\n",
              "    }\n",
              "</style>\n",
              "<table border=\"1\" class=\"dataframe\">\n",
              "  <thead>\n",
              "    <tr style=\"text-align: right;\">\n",
              "      <th></th>\n",
              "      <th>Departamento</th>\n",
              "      <th>Municipio</th>\n",
              "      <th>Cultivo</th>\n",
              "      <th>Estado</th>\n",
              "      <th>Tiempo Establecimiento</th>\n",
              "      <th>Topografia</th>\n",
              "      <th>Drenaje</th>\n",
              "      <th>Riego</th>\n",
              "      <th>Fertilizantes aplicados</th>\n",
              "    </tr>\n",
              "  </thead>\n",
              "  <tbody>\n",
              "    <tr>\n",
              "      <th>0</th>\n",
              "      <td>13.0</td>\n",
              "      <td>291.0</td>\n",
              "      <td>208.0</td>\n",
              "      <td>1.0</td>\n",
              "      <td>0.0</td>\n",
              "      <td>2.0</td>\n",
              "      <td>1.0</td>\n",
              "      <td>9.0</td>\n",
              "      <td>845.0</td>\n",
              "    </tr>\n",
              "    <tr>\n",
              "      <th>1</th>\n",
              "      <td>13.0</td>\n",
              "      <td>83.0</td>\n",
              "      <td>69.0</td>\n",
              "      <td>1.0</td>\n",
              "      <td>0.0</td>\n",
              "      <td>2.0</td>\n",
              "      <td>1.0</td>\n",
              "      <td>9.0</td>\n",
              "      <td>845.0</td>\n",
              "    </tr>\n",
              "    <tr>\n",
              "      <th>2</th>\n",
              "      <td>13.0</td>\n",
              "      <td>877.0</td>\n",
              "      <td>181.0</td>\n",
              "      <td>0.0</td>\n",
              "      <td>0.0</td>\n",
              "      <td>2.0</td>\n",
              "      <td>1.0</td>\n",
              "      <td>9.0</td>\n",
              "      <td>845.0</td>\n",
              "    </tr>\n",
              "    <tr>\n",
              "      <th>3</th>\n",
              "      <td>13.0</td>\n",
              "      <td>877.0</td>\n",
              "      <td>181.0</td>\n",
              "      <td>0.0</td>\n",
              "      <td>0.0</td>\n",
              "      <td>2.0</td>\n",
              "      <td>1.0</td>\n",
              "      <td>9.0</td>\n",
              "      <td>845.0</td>\n",
              "    </tr>\n",
              "    <tr>\n",
              "      <th>4</th>\n",
              "      <td>13.0</td>\n",
              "      <td>86.0</td>\n",
              "      <td>158.0</td>\n",
              "      <td>1.0</td>\n",
              "      <td>0.0</td>\n",
              "      <td>4.0</td>\n",
              "      <td>1.0</td>\n",
              "      <td>9.0</td>\n",
              "      <td>253.0</td>\n",
              "    </tr>\n",
              "  </tbody>\n",
              "</table>\n",
              "</div>"
            ],
            "text/plain": [
              "   Departamento  Municipio  Cultivo  ...  Drenaje  Riego  Fertilizantes aplicados\n",
              "0          13.0      291.0    208.0  ...      1.0    9.0                    845.0\n",
              "1          13.0       83.0     69.0  ...      1.0    9.0                    845.0\n",
              "2          13.0      877.0    181.0  ...      1.0    9.0                    845.0\n",
              "3          13.0      877.0    181.0  ...      1.0    9.0                    845.0\n",
              "4          13.0       86.0    158.0  ...      1.0    9.0                    253.0\n",
              "\n",
              "[5 rows x 9 columns]"
            ]
          },
          "metadata": {
            "tags": []
          },
          "execution_count": 167
        }
      ]
    },
    {
      "cell_type": "code",
      "metadata": {
        "colab": {
          "base_uri": "https://localhost:8080/",
          "height": 329
        },
        "id": "qWjk2883lXOi",
        "outputId": "0beeee42-394c-46c9-9241-b7151fb17d50"
      },
      "source": [
        "# Se eliminan características que no se necesitan \n",
        "quitar = [\"Departamento\", \"Municipio\", \"Fertilizantes aplicados\"]\n",
        "data = data.drop(quitar, axis=1)\n",
        "data.head()"
      ],
      "execution_count": null,
      "outputs": [
        {
          "output_type": "execute_result",
          "data": {
            "text/html": [
              "<div>\n",
              "<style scoped>\n",
              "    .dataframe tbody tr th:only-of-type {\n",
              "        vertical-align: middle;\n",
              "    }\n",
              "\n",
              "    .dataframe tbody tr th {\n",
              "        vertical-align: top;\n",
              "    }\n",
              "\n",
              "    .dataframe thead th {\n",
              "        text-align: right;\n",
              "    }\n",
              "</style>\n",
              "<table border=\"1\" class=\"dataframe\">\n",
              "  <thead>\n",
              "    <tr style=\"text-align: right;\">\n",
              "      <th></th>\n",
              "      <th>Cultivo</th>\n",
              "      <th>Estado</th>\n",
              "      <th>Tiempo Establecimiento</th>\n",
              "      <th>Topografia</th>\n",
              "      <th>Drenaje</th>\n",
              "      <th>Riego</th>\n",
              "      <th>pH agua:suelo 2,5:1,0</th>\n",
              "      <th>Materia orgánica (MO) %</th>\n",
              "      <th>Fósforo (P) Bray II mg/kg</th>\n",
              "      <th>Azufre (S) Fosfato monocalcico mg/kg</th>\n",
              "      <th>Acidez (Al+H) KCL cmol(+)/kg</th>\n",
              "      <th>Aluminio (Al) intercambiable cmol(+)/kg</th>\n",
              "      <th>Calcio (Ca) intercambiable cmol(+)/kg</th>\n",
              "      <th>Magnesio (Mg) intercambiable cmol(+)/kg</th>\n",
              "      <th>Potasio (K) intercambiable cmol(+)/kg</th>\n",
              "      <th>Sodio (Na) intercambiable cmol(+)/kg</th>\n",
              "      <th>capacidad de intercambio cationico (CICE) suma de bases cmol(+)/kg</th>\n",
              "      <th>Conductividad el‚ctrica (CE) relacion 2,5:1,0 dS/m</th>\n",
              "      <th>Hierro (Fe) disponible olsen mg/kg</th>\n",
              "      <th>Cobre (Cu) disponible mg/kg</th>\n",
              "      <th>Manganeso (Mn) disponible Olsen mg/kg</th>\n",
              "      <th>Zinc (Zn) disponible Olsen mg/kg</th>\n",
              "      <th>Boro (B) disponible mg/kg</th>\n",
              "      <th>Hierro (Fe) disponible doble  cido mg/kg</th>\n",
              "      <th>Cobre (Cu) disponible doble acido mg/kg</th>\n",
              "      <th>Manganeso (Mn) disponible doble acido mg/kg</th>\n",
              "      <th>Zinc (Zn) disponible doble  cido mg/kg</th>\n",
              "    </tr>\n",
              "  </thead>\n",
              "  <tbody>\n",
              "    <tr>\n",
              "      <th>0</th>\n",
              "      <td>208.0</td>\n",
              "      <td>1.0</td>\n",
              "      <td>0.0</td>\n",
              "      <td>2.0</td>\n",
              "      <td>1.0</td>\n",
              "      <td>9.0</td>\n",
              "      <td>5.66</td>\n",
              "      <td>9.706679</td>\n",
              "      <td>5.622299</td>\n",
              "      <td>4.345550</td>\n",
              "      <td>2.085799</td>\n",
              "      <td>1.649642</td>\n",
              "      <td>4.965692</td>\n",
              "      <td>0.978829</td>\n",
              "      <td>0.204534</td>\n",
              "      <td>0.145927</td>\n",
              "      <td>6.294983</td>\n",
              "      <td>0.223513</td>\n",
              "      <td>184.118</td>\n",
              "      <td>1.000</td>\n",
              "      <td>2.876</td>\n",
              "      <td>3.462</td>\n",
              "      <td>0.109442</td>\n",
              "      <td>64.96303</td>\n",
              "      <td>1.372805</td>\n",
              "      <td>11.609078</td>\n",
              "      <td>2.719156</td>\n",
              "    </tr>\n",
              "    <tr>\n",
              "      <th>1</th>\n",
              "      <td>69.0</td>\n",
              "      <td>1.0</td>\n",
              "      <td>0.0</td>\n",
              "      <td>2.0</td>\n",
              "      <td>1.0</td>\n",
              "      <td>9.0</td>\n",
              "      <td>8.08</td>\n",
              "      <td>3.417595</td>\n",
              "      <td>7.570468</td>\n",
              "      <td>6.832461</td>\n",
              "      <td>2.085799</td>\n",
              "      <td>1.649642</td>\n",
              "      <td>42.704797</td>\n",
              "      <td>1.275356</td>\n",
              "      <td>0.131217</td>\n",
              "      <td>0.120282</td>\n",
              "      <td>44.231652</td>\n",
              "      <td>0.692732</td>\n",
              "      <td>33.181</td>\n",
              "      <td>3.426</td>\n",
              "      <td>1.000</td>\n",
              "      <td>90.926</td>\n",
              "      <td>0.710300</td>\n",
              "      <td>64.96303</td>\n",
              "      <td>1.372805</td>\n",
              "      <td>11.609078</td>\n",
              "      <td>2.719156</td>\n",
              "    </tr>\n",
              "    <tr>\n",
              "      <th>2</th>\n",
              "      <td>181.0</td>\n",
              "      <td>0.0</td>\n",
              "      <td>0.0</td>\n",
              "      <td>2.0</td>\n",
              "      <td>1.0</td>\n",
              "      <td>9.0</td>\n",
              "      <td>5.87</td>\n",
              "      <td>2.336659</td>\n",
              "      <td>16.901172</td>\n",
              "      <td>14.424084</td>\n",
              "      <td>2.085799</td>\n",
              "      <td>1.649642</td>\n",
              "      <td>9.597183</td>\n",
              "      <td>0.945701</td>\n",
              "      <td>0.194181</td>\n",
              "      <td>0.138463</td>\n",
              "      <td>10.875528</td>\n",
              "      <td>0.334477</td>\n",
              "      <td>670.747</td>\n",
              "      <td>3.720</td>\n",
              "      <td>8.481</td>\n",
              "      <td>2.455</td>\n",
              "      <td>0.130901</td>\n",
              "      <td>64.96303</td>\n",
              "      <td>1.372805</td>\n",
              "      <td>11.609078</td>\n",
              "      <td>2.719156</td>\n",
              "    </tr>\n",
              "    <tr>\n",
              "      <th>3</th>\n",
              "      <td>181.0</td>\n",
              "      <td>0.0</td>\n",
              "      <td>0.0</td>\n",
              "      <td>2.0</td>\n",
              "      <td>1.0</td>\n",
              "      <td>9.0</td>\n",
              "      <td>5.56</td>\n",
              "      <td>6.853757</td>\n",
              "      <td>32.076383</td>\n",
              "      <td>9.581152</td>\n",
              "      <td>2.085799</td>\n",
              "      <td>1.649642</td>\n",
              "      <td>7.528300</td>\n",
              "      <td>0.841608</td>\n",
              "      <td>1.590415</td>\n",
              "      <td>0.140000</td>\n",
              "      <td>10.060324</td>\n",
              "      <td>0.361426</td>\n",
              "      <td>791.175</td>\n",
              "      <td>6.830</td>\n",
              "      <td>5.694</td>\n",
              "      <td>2.631</td>\n",
              "      <td>0.302575</td>\n",
              "      <td>64.96303</td>\n",
              "      <td>1.372805</td>\n",
              "      <td>11.609078</td>\n",
              "      <td>2.719156</td>\n",
              "    </tr>\n",
              "    <tr>\n",
              "      <th>4</th>\n",
              "      <td>158.0</td>\n",
              "      <td>1.0</td>\n",
              "      <td>0.0</td>\n",
              "      <td>4.0</td>\n",
              "      <td>1.0</td>\n",
              "      <td>9.0</td>\n",
              "      <td>4.87</td>\n",
              "      <td>16.041251</td>\n",
              "      <td>64.199200</td>\n",
              "      <td>5.523560</td>\n",
              "      <td>5.028454</td>\n",
              "      <td>4.643150</td>\n",
              "      <td>2.234775</td>\n",
              "      <td>0.346672</td>\n",
              "      <td>0.313188</td>\n",
              "      <td>0.156357</td>\n",
              "      <td>8.079447</td>\n",
              "      <td>0.374107</td>\n",
              "      <td>1685.377</td>\n",
              "      <td>4.124</td>\n",
              "      <td>17.619</td>\n",
              "      <td>8.567</td>\n",
              "      <td>0.302575</td>\n",
              "      <td>64.96303</td>\n",
              "      <td>1.372805</td>\n",
              "      <td>11.609078</td>\n",
              "      <td>2.719156</td>\n",
              "    </tr>\n",
              "  </tbody>\n",
              "</table>\n",
              "</div>"
            ],
            "text/plain": [
              "   Cultivo  ...  Zinc (Zn) disponible doble  cido mg/kg\n",
              "0    208.0  ...                                2.719156\n",
              "1     69.0  ...                                2.719156\n",
              "2    181.0  ...                                2.719156\n",
              "3    181.0  ...                                2.719156\n",
              "4    158.0  ...                                2.719156\n",
              "\n",
              "[5 rows x 27 columns]"
            ]
          },
          "metadata": {
            "tags": []
          },
          "execution_count": 168
        }
      ]
    },
    {
      "cell_type": "code",
      "metadata": {
        "id": "FTjgo8vLrVEx",
        "colab": {
          "base_uri": "https://localhost:8080/"
        },
        "outputId": "f3231601-b3be-4ea9-c3c8-66054964978c"
      },
      "source": [
        "# Se escalizan los datos\n",
        "scaler = StandardScaler()\n",
        "data_sc = scaler.fit_transform(data) \n",
        "print(data_sc.shape)"
      ],
      "execution_count": null,
      "outputs": [
        {
          "output_type": "stream",
          "text": [
            "(46745, 27)\n"
          ],
          "name": "stdout"
        }
      ]
    },
    {
      "cell_type": "code",
      "metadata": {
        "colab": {
          "base_uri": "https://localhost:8080/"
        },
        "id": "nzMPz5nmy2HP",
        "outputId": "ad1cfb11-e47f-4add-a36b-b23578ea3f01"
      },
      "source": [
        "# PCA\n",
        "N = data_sc.shape[1]\n",
        "pca = PCA(n_components=N, whiten=True).fit(data_sc)\n",
        "data_pca = pca.transform(data_sc)\n",
        "print(\"Pesos de PCA:\",pca.explained_variance_ratio_)\n",
        "print(\"Suma de pesos: \", sum(pca.explained_variance_ratio_))"
      ],
      "execution_count": null,
      "outputs": [
        {
          "output_type": "stream",
          "text": [
            "Pesos de PCA: [1.48152816e-01 8.82879664e-02 7.67564673e-02 6.29159857e-02\n",
            " 5.96546139e-02 4.92375398e-02 4.48494587e-02 4.26817208e-02\n",
            " 4.01682424e-02 3.73370590e-02 3.50648214e-02 3.38696506e-02\n",
            " 3.13686132e-02 3.02251006e-02 2.75343330e-02 2.69005040e-02\n",
            " 2.58222855e-02 2.39136135e-02 2.21351577e-02 2.14360856e-02\n",
            " 1.88855857e-02 1.67599779e-02 1.51360871e-02 1.18221389e-02\n",
            " 8.51083446e-03 4.71102952e-04 1.02238471e-04]\n",
            "Suma de pesos:  1.0000000000000002\n"
          ],
          "name": "stdout"
        }
      ]
    },
    {
      "cell_type": "markdown",
      "metadata": {
        "id": "6fINzMS5_X-4"
      },
      "source": [
        "# DETECCIÓN DE OUTLIERS\n",
        "\n",
        "1.   Sin PCA\n"
      ]
    },
    {
      "cell_type": "code",
      "metadata": {
        "id": "e1Z8mQEjSwt4"
      },
      "source": [
        "# Detección usando Elliptic Envelope\n",
        "\n",
        "MCD = EllipticEnvelope(store_precision=True, assume_centered=True, support_fraction=0.99, contamination=0.1, random_state=10)\n",
        "y_pred = MCD.fit_predict(data_sc)\n",
        "\n",
        "idx_MCD = np.where(y_pred==-1)[0]\n",
        "outlier_values_MCD = data_original.iloc[idx_MCD].copy()"
      ],
      "execution_count": null,
      "outputs": []
    },
    {
      "cell_type": "code",
      "metadata": {
        "id": "FAKFEkmNice0",
        "colab": {
          "base_uri": "https://localhost:8080/"
        },
        "outputId": "96da9e98-be8f-41a5-e272-d1b289e7f7df"
      },
      "source": [
        "outlier_values_MCD.to_csv(\"outliers_MCD_.csv\", sep=';')\n",
        "print(\"Número de Outliers detectados con MCD: \", len(outlier_values_MCD))\n",
        "detect_outliers = []\n",
        "detect_outliers.append((\"MCD\", len(outlier_values_MCD)))"
      ],
      "execution_count": null,
      "outputs": [
        {
          "output_type": "stream",
          "text": [
            "Número de Outliers detectados con MCD:  4675\n"
          ],
          "name": "stdout"
        }
      ]
    },
    {
      "cell_type": "code",
      "metadata": {
        "id": "uf9UXyfClcRK"
      },
      "source": [
        "# Detección usando Isolation Forest \n",
        "\n",
        "forest = IsolationForest(n_estimators=30, warm_start=True)\n",
        "y_predictf = forest.fit_predict(data_sc)\n",
        "\n",
        "idx_if = np.where(y_predictf==-1)[0]\n",
        "outlier_values_if = data_original.iloc[idx_if]"
      ],
      "execution_count": null,
      "outputs": []
    },
    {
      "cell_type": "code",
      "metadata": {
        "colab": {
          "base_uri": "https://localhost:8080/"
        },
        "id": "_qtzeUC2qwJH",
        "outputId": "703b9342-0167-4406-c013-c21a0f517b02"
      },
      "source": [
        "outlier_values_if.to_csv(\"outliers_IF_.csv\", sep=';')\n",
        "print(\"Número de Outliers detectados con IF: \", len(outlier_values_if))\n",
        "detect_outliers.append((\"IF\", len(outlier_values_if)))"
      ],
      "execution_count": null,
      "outputs": [
        {
          "output_type": "stream",
          "text": [
            "Número de Outliers detectados con IF:  1986\n"
          ],
          "name": "stdout"
        }
      ]
    },
    {
      "cell_type": "code",
      "metadata": {
        "id": "Q5wUTuiWoK_W"
      },
      "source": [
        "# Detección Local Outlier Factor(LOF)\n",
        "\n",
        "LOF = LocalOutlierFactor(n_neighbors=10)\n",
        "y_predlof = LOF.fit_predict(data_sc)\n",
        "\n",
        "idx_LOF = np.where(y_predlof==-1)[0]\n",
        "outlier_values_lof = data_original.iloc[idx_LOF]"
      ],
      "execution_count": null,
      "outputs": []
    },
    {
      "cell_type": "code",
      "metadata": {
        "id": "rVQtm-_-8Y6u",
        "colab": {
          "base_uri": "https://localhost:8080/"
        },
        "outputId": "fb91059b-e860-4b4b-b5d3-346ecc062dc6"
      },
      "source": [
        "outlier_values_lof.to_csv(\"outliers_LOF_.csv\", sep=';')\n",
        "print(\"Número de Outliers detectados con LOF: \", len(outlier_values_lof))\n",
        "detect_outliers.append((\"LOF\", len(outlier_values_lof)))"
      ],
      "execution_count": null,
      "outputs": [
        {
          "output_type": "stream",
          "text": [
            "Número de Outliers detectados con LOF:  1908\n"
          ],
          "name": "stdout"
        }
      ]
    },
    {
      "cell_type": "code",
      "metadata": {
        "id": "SgLgc5BJB_w2"
      },
      "source": [
        "# Detección SVM\n",
        "SVM = svm.OneClassSVM()\n",
        "y_predsvm = SVM.fit_predict(data_sc)\n",
        "\n",
        "idx_SVM = np.where(y_predsvm==-1)[0]\n",
        "outlier_values_svm = data_original.iloc[idx_SVM]"
      ],
      "execution_count": null,
      "outputs": []
    },
    {
      "cell_type": "code",
      "metadata": {
        "id": "o1La2LYL8qfS",
        "colab": {
          "base_uri": "https://localhost:8080/"
        },
        "outputId": "a832a96d-174f-4bb8-f6a5-13291b372cc1"
      },
      "source": [
        "outlier_values_svm.to_csv(\"outliers_SVM_.csv\", sep=';')\n",
        "print(\"Número de Outliers detectados con SVM: \", len(outlier_values_svm))\n",
        "detect_outliers.append((\"SVM\", len(outlier_values_svm)))"
      ],
      "execution_count": null,
      "outputs": [
        {
          "output_type": "stream",
          "text": [
            "Número de Outliers detectados con SVM:  23375\n"
          ],
          "name": "stdout"
        }
      ]
    },
    {
      "cell_type": "markdown",
      "metadata": {
        "id": "RJ9ORUAV7Ykz"
      },
      "source": [
        "2. Con PCA "
      ]
    },
    {
      "cell_type": "code",
      "metadata": {
        "id": "x_Y0YMH07cX7"
      },
      "source": [
        "# Detección usando Elliptic Envelope con PCA\n",
        "MCD_PCA = EllipticEnvelope(store_precision=True, assume_centered=True, support_fraction=0.99, contamination=0.1, random_state=10)\n",
        "y_predpca = MCD_PCA.fit_predict(data_pca)\n",
        "\n",
        "idx_MCD_PCA = np.where(y_predpca==-1)[0]\n",
        "outlier_values_MCD_pca = data_original.iloc[idx_MCD_PCA].copy()"
      ],
      "execution_count": null,
      "outputs": []
    },
    {
      "cell_type": "code",
      "metadata": {
        "id": "qSP3EL_w8ixz",
        "colab": {
          "base_uri": "https://localhost:8080/"
        },
        "outputId": "a6e14253-be95-4d9c-e7c7-f59e0446538a"
      },
      "source": [
        "outlier_values_MCD_pca.to_csv(\"outliers_MCD_PCA.csv\", sep=';')\n",
        "print(\"Número de Outliers detectados con MCD y PCA: \", len(outlier_values_MCD_pca))\n",
        "detect_outliers.append((\"MCD_PCA\", len(outlier_values_MCD_pca)))"
      ],
      "execution_count": null,
      "outputs": [
        {
          "output_type": "stream",
          "text": [
            "Número de Outliers detectados con MCD y PCA:  4675\n"
          ],
          "name": "stdout"
        }
      ]
    },
    {
      "cell_type": "code",
      "metadata": {
        "id": "bdTYcwv38u71"
      },
      "source": [
        "# Detección usando Isolation Forest con PCA\n",
        "forest_pca = IsolationForest(n_estimators=30, warm_start=True)\n",
        "y_predict_f_pca = forest_pca.fit_predict(data_pca)\n",
        "\n",
        "idx_if_PCA = np.where(y_predict_f_pca==-1)[0]\n",
        "outlier_values_if_pca = data_original.iloc[idx_if_PCA]"
      ],
      "execution_count": null,
      "outputs": []
    },
    {
      "cell_type": "code",
      "metadata": {
        "id": "_Lx74yI09Wea",
        "colab": {
          "base_uri": "https://localhost:8080/"
        },
        "outputId": "8338d748-34b0-4b1a-b607-41832651b7ac"
      },
      "source": [
        "outlier_values_if_pca.to_csv(\"outliers_IF_PCA.csv\")\n",
        "print(\"Número de Outliers detectados con IF y PCA: \", len(outlier_values_if_pca))\n",
        "detect_outliers.append((\"IF_PCA\", len(outlier_values_if_pca)))"
      ],
      "execution_count": null,
      "outputs": [
        {
          "output_type": "stream",
          "text": [
            "Número de Outliers detectados con IF y PCA:  1934\n"
          ],
          "name": "stdout"
        }
      ]
    },
    {
      "cell_type": "code",
      "metadata": {
        "id": "zgYaLuy-9aNm"
      },
      "source": [
        "# Detección Local Outlier Factor(LOF) PCA \n",
        "LOF_PCA = LocalOutlierFactor(n_neighbors=10)\n",
        "y_predlof_pca = LOF_PCA.fit_predict(data_pca)\n",
        "\n",
        "idx_LOF_PCA = np.where(y_predlof_pca==-1)[0]\n",
        "outlier_values_lof_pca = data_original.iloc[idx_LOF_PCA]"
      ],
      "execution_count": null,
      "outputs": []
    },
    {
      "cell_type": "code",
      "metadata": {
        "id": "A9MWmITuAkz7",
        "colab": {
          "base_uri": "https://localhost:8080/"
        },
        "outputId": "b380de13-46fb-473c-f828-9acacb175c32"
      },
      "source": [
        "outlier_values_lof_pca.to_csv(\"outliers_LOF_PCA.csv\")\n",
        "print(\"Número de Outliers detectados con LOF y PCA: \", len(outlier_values_lof_pca))\n",
        "detect_outliers.append((\"LOF_PCA\", len(outlier_values_lof_pca)))"
      ],
      "execution_count": null,
      "outputs": [
        {
          "output_type": "stream",
          "text": [
            "Número de Outliers detectados con LOF y PCA:  2611\n"
          ],
          "name": "stdout"
        }
      ]
    },
    {
      "cell_type": "code",
      "metadata": {
        "id": "373sIm_eAy2z"
      },
      "source": [
        "# Detección SVM con PCA\n",
        "SVM_PCA = svm.OneClassSVM()\n",
        "y_predsvm_pca = SVM_PCA.fit_predict(data_pca)\n",
        "\n",
        "idx_SVM_PCA = np.where(y_predsvm_pca==-1)[0]\n",
        "outlier_values_svm_pca = data_original.iloc[idx_SVM_PCA]"
      ],
      "execution_count": null,
      "outputs": []
    },
    {
      "cell_type": "code",
      "metadata": {
        "id": "-set1pLcBzMI",
        "colab": {
          "base_uri": "https://localhost:8080/"
        },
        "outputId": "765c266b-fc75-44c6-b5b2-ab2a6e24f702"
      },
      "source": [
        "outlier_values_svm_pca.to_csv(\"outliers_SVM_PCA.csv\")\n",
        "print(\"Número de Outliers detectados con SVM y PCA: \", len(outlier_values_svm_pca))\n",
        "detect_outliers.append((\"SVM_PCA\", len(outlier_values_svm_pca)))"
      ],
      "execution_count": null,
      "outputs": [
        {
          "output_type": "stream",
          "text": [
            "Número de Outliers detectados con SVM y PCA:  23371\n"
          ],
          "name": "stdout"
        }
      ]
    },
    {
      "cell_type": "markdown",
      "metadata": {
        "id": "Lu1qixS8EPcu"
      },
      "source": [
        "# Análisis\n",
        "\n",
        "* Las siguientes graficas muestran el número de outliers detectados en cada clase encontrada dentro de \"Fertilizantes aplicados\", con la finalidad de comprobar si existe alguna correlación entre los outliers contra esta característica. "
      ]
    },
    {
      "cell_type": "code",
      "metadata": {
        "id": "J4L8OPgjfm5x",
        "colab": {
          "base_uri": "https://localhost:8080/",
          "height": 313
        },
        "outputId": "65bcd865-3dae-42b7-93e7-919773a902a0"
      },
      "source": [
        "import seaborn as sns\n",
        "\n",
        "outlier_fertilizantes_MCD = data_original[\"Fertilizantes aplicados\"].iloc[idx_MCD].value_counts().rename_axis('clase').reset_index(name='conteo')\n",
        "\n",
        "plt.title(\"frecuencia de outliers detectados con MCD en caracteristica Fertilizantes aplicados\")\n",
        "sns.barplot(x=\"conteo\", y=\"clase\", palette=\"ch:.25\", data=outlier_fertilizantes_MCD.iloc[0:7])"
      ],
      "execution_count": null,
      "outputs": [
        {
          "output_type": "execute_result",
          "data": {
            "text/plain": [
              "<matplotlib.axes._subplots.AxesSubplot at 0x7fac5f291c10>"
            ]
          },
          "metadata": {
            "tags": []
          },
          "execution_count": 187
        },
        {
          "output_type": "display_data",
          "data": {
            "image/png": "[encoded data removed]",
            "text/plain": [
              "<Figure size 432x288 with 1 Axes>"
            ]
          },
          "metadata": {
            "tags": [],
            "needs_background": "light"
          }
        }
      ]
    },
    {
      "cell_type": "code",
      "metadata": {
        "id": "dSIZisaPYOEC",
        "colab": {
          "base_uri": "https://localhost:8080/",
          "height": 313
        },
        "outputId": "3d08f007-1e13-4d4a-bac7-601f266b4a54"
      },
      "source": [
        "outlier_fertilizantes_IF = data_original[\"Fertilizantes aplicados\"].iloc[idx_if].value_counts().rename_axis('clase').reset_index(name='conteo')\n",
        "\n",
        "plt.title(\"frecuencia de outliers detectados con IF en caracteristica Fertilizantes aplicados\")\n",
        "sns.barplot(x=\"conteo\", y=\"clase\", palette=\"ch:.25\", data=outlier_fertilizantes_IF.iloc[0:7])"
      ],
      "execution_count": null,
      "outputs": [
        {
          "output_type": "execute_result",
          "data": {
            "text/plain": [
              "<matplotlib.axes._subplots.AxesSubplot at 0x7fac76fc6690>"
            ]
          },
          "metadata": {
            "tags": []
          },
          "execution_count": 188
        },
        {
          "output_type": "display_data",
          "data": {
            "image/png": "[encoded data removed]",
            "text/plain": [
              "<Figure size 432x288 with 1 Axes>"
            ]
          },
          "metadata": {
            "tags": [],
            "needs_background": "light"
          }
        }
      ]
    },
    {
      "cell_type": "code",
      "metadata": {
        "id": "ylsskJ9UmsMU",
        "colab": {
          "base_uri": "https://localhost:8080/",
          "height": 313
        },
        "outputId": "2ca5a64c-0ef9-4a31-dac1-7816cd302543"
      },
      "source": [
        "outlier_fertilizantes_LOF = data_original[\"Fertilizantes aplicados\"].iloc[idx_LOF].value_counts().rename_axis('clase').reset_index(name='conteo')\n",
        "\n",
        "plt.title(\"frecuencia de outliers detectados con LOF en caracteristica Fertilizantes aplicados\")\n",
        "sns.barplot(x=\"conteo\", y=\"clase\",  palette=\"ch:.25\", data=outlier_fertilizantes_LOF.iloc[0:7])"
      ],
      "execution_count": null,
      "outputs": [
        {
          "output_type": "execute_result",
          "data": {
            "text/plain": [
              "<matplotlib.axes._subplots.AxesSubplot at 0x7fac774e0150>"
            ]
          },
          "metadata": {
            "tags": []
          },
          "execution_count": 189
        },
        {
          "output_type": "display_data",
          "data": {
            "image/png": "[encoded data removed]",
            "text/plain": [
              "<Figure size 432x288 with 1 Axes>"
            ]
          },
          "metadata": {
            "tags": [],
            "needs_background": "light"
          }
        }
      ]
    },
    {
      "cell_type": "code",
      "metadata": {
        "id": "PIFZ7pJ2nYgt",
        "colab": {
          "base_uri": "https://localhost:8080/",
          "height": 313
        },
        "outputId": "4dd5e2c4-345d-4941-f4a9-853cd0bbe243"
      },
      "source": [
        "outlier_fertilizantes_SVM = data_original[\"Fertilizantes aplicados\"].iloc[idx_SVM].value_counts().rename_axis('clase').reset_index(name='conteo')\n",
        "\n",
        "plt.title(\"frecuencia de outliers detectados con SVM en caracteristica Fertilizantes aplicados\")\n",
        "sns.barplot(x=\"conteo\", y=\"clase\", palette=\"ch:.25\", data=outlier_fertilizantes_SVM.iloc[0:7])"
      ],
      "execution_count": null,
      "outputs": [
        {
          "output_type": "execute_result",
          "data": {
            "text/plain": [
              "<matplotlib.axes._subplots.AxesSubplot at 0x7fac77df8310>"
            ]
          },
          "metadata": {
            "tags": []
          },
          "execution_count": 190
        },
        {
          "output_type": "display_data",
          "data": {
            "image/png": "[encoded data removed]",
            "text/plain": [
              "<Figure size 432x288 with 1 Axes>"
            ]
          },
          "metadata": {
            "tags": [],
            "needs_background": "light"
          }
        }
      ]
    },
    {
      "cell_type": "code",
      "metadata": {
        "id": "g8whseQLoRuu",
        "colab": {
          "base_uri": "https://localhost:8080/",
          "height": 313
        },
        "outputId": "f05afaf9-49a1-4e8e-edb8-3185949c3e56"
      },
      "source": [
        "outlier_fertilizantes_MCD_PCA = data_original[\"Fertilizantes aplicados\"].iloc[idx_MCD_PCA].value_counts().rename_axis('clase').reset_index(name='conteo')\n",
        "\n",
        "plt.title(\"frecuencia de outliers detectados con MCD y con PCA en caracteristica Fertilizantes aplicados\")\n",
        "sns.barplot(x=\"conteo\", y=\"clase\", palette=\"crest\", data=outlier_fertilizantes_MCD_PCA.iloc[0:7])"
      ],
      "execution_count": null,
      "outputs": [
        {
          "output_type": "execute_result",
          "data": {
            "text/plain": [
              "<matplotlib.axes._subplots.AxesSubplot at 0x7fac77dead90>"
            ]
          },
          "metadata": {
            "tags": []
          },
          "execution_count": 191
        },
        {
          "output_type": "display_data",
          "data": {
            "image/png": "[encoded data removed]",
            "text/plain": [
              "<Figure size 432x288 with 1 Axes>"
            ]
          },
          "metadata": {
            "tags": [],
            "needs_background": "light"
          }
        }
      ]
    },
    {
      "cell_type": "code",
      "metadata": {
        "id": "XJ3ND7obo7CJ",
        "colab": {
          "base_uri": "https://localhost:8080/",
          "height": 313
        },
        "outputId": "a704c297-7c3a-4bec-857b-85bf4b322602"
      },
      "source": [
        "outlier_fertilizantes_IF_PCA = data_original[\"Fertilizantes aplicados\"].iloc[idx_if_PCA].value_counts().rename_axis('clase').reset_index(name='conteo')\n",
        "\n",
        "plt.title(\"frecuencia de outliers detectados con IF y con PCA en caracteristica Fertilizantes aplicados\")\n",
        "sns.barplot(x=\"conteo\", y=\"clase\", palette=\"crest\", data=outlier_fertilizantes_IF_PCA.iloc[0:7])"
      ],
      "execution_count": null,
      "outputs": [
        {
          "output_type": "execute_result",
          "data": {
            "text/plain": [
              "<matplotlib.axes._subplots.AxesSubplot at 0x7fac77fdae90>"
            ]
          },
          "metadata": {
            "tags": []
          },
          "execution_count": 192
        },
        {
          "output_type": "display_data",
          "data": {
            "image/png": "[encoded data removed]",
            "text/plain": [
              "<Figure size 432x288 with 1 Axes>"
            ]
          },
          "metadata": {
            "tags": [],
            "needs_background": "light"
          }
        }
      ]
    },
    {
      "cell_type": "code",
      "metadata": {
        "id": "jdCFP7h1pjlp",
        "colab": {
          "base_uri": "https://localhost:8080/",
          "height": 313
        },
        "outputId": "e6a8c6be-1e18-4232-92f3-4f2a0e496894"
      },
      "source": [
        "outlier_fertilizantes_LOF_PCA = data_original[\"Fertilizantes aplicados\"].iloc[idx_LOF_PCA].value_counts().rename_axis('clase').reset_index(name='conteo')\n",
        "\n",
        "plt.title(\"frecuencia de outliers detectados con LOF y con PCA en caracteristica Fertilizantes aplicados\")\n",
        "sns.barplot(x=\"conteo\", y=\"clase\", palette=\"crest\", data=outlier_fertilizantes_LOF_PCA.iloc[0:7])"
      ],
      "execution_count": null,
      "outputs": [
        {
          "output_type": "execute_result",
          "data": {
            "text/plain": [
              "<matplotlib.axes._subplots.AxesSubplot at 0x7fac77fb5990>"
            ]
          },
          "metadata": {
            "tags": []
          },
          "execution_count": 193
        },
        {
          "output_type": "display_data",
          "data": {
            "image/png": "[encoded data removed]",
            "text/plain": [
              "<Figure size 432x288 with 1 Axes>"
            ]
          },
          "metadata": {
            "tags": [],
            "needs_background": "light"
          }
        }
      ]
    },
    {
      "cell_type": "code",
      "metadata": {
        "id": "YrborlbCp1H-",
        "colab": {
          "base_uri": "https://localhost:8080/",
          "height": 313
        },
        "outputId": "9223fd74-1e6d-4049-f04f-9cd2ec57584a"
      },
      "source": [
        "outlier_fertilizantes_SVM_PCA = data_original[\"Fertilizantes aplicados\"].iloc[idx_SVM_PCA].value_counts().rename_axis('clase').reset_index(name='conteo')\n",
        "\n",
        "plt.title(\"frecuencia de outliers detectados con SVM y con PCA en caracteristica Fertilizantes aplicados\")\n",
        "sns.barplot(x=\"conteo\", y=\"clase\", palette=\"crest\", data=outlier_fertilizantes_SVM_PCA.iloc[0:7])"
      ],
      "execution_count": null,
      "outputs": [
        {
          "output_type": "execute_result",
          "data": {
            "text/plain": [
              "<matplotlib.axes._subplots.AxesSubplot at 0x7fac77612450>"
            ]
          },
          "metadata": {
            "tags": []
          },
          "execution_count": 194
        },
        {
          "output_type": "display_data",
          "data": {
            "image/png": "[encoded data removed]",
            "text/plain": [
              "<Figure size 432x288 with 1 Axes>"
            ]
          },
          "metadata": {
            "tags": [],
            "needs_background": "light"
          }
        }
      ]
    },
    {
      "cell_type": "markdown",
      "metadata": {
        "id": "pbp80WXsKbdb"
      },
      "source": [
        "* Se hace una gráfica de barras para mostrar el número de outliers que se detectaron en cada método tanto usando PCA, como sin usar PCA"
      ]
    },
    {
      "cell_type": "code",
      "metadata": {
        "id": "CX2rU9cRyaWF",
        "colab": {
          "base_uri": "https://localhost:8080/",
          "height": 481
        },
        "outputId": "b0ec9610-8959-4e21-9488-0d80caeb33c5"
      },
      "source": [
        "met = [n[0] for n in detect_outliers]\n",
        "print(x)\n",
        "outliers = [n[1] for n in detect_outliers]\n",
        "print(y)\n",
        "plt.figure(figsize=(8,7))\n",
        "plt.title(\"Outliers detectados en cada método\")\n",
        "splot = sns.barplot(x=met, y=outliers, palette=\"crest\")\n",
        "for p in splot.patches:\n",
        "    splot.annotate(format(p.get_height(), '.1f'), \n",
        "                   (p.get_x() + p.get_width() / 2., p.get_height()), \n",
        "                   ha = 'center', va = 'center', \n",
        "                   xytext = (0, 9), \n",
        "                   textcoords = 'offset points')"
      ],
      "execution_count": null,
      "outputs": [
        {
          "output_type": "stream",
          "text": [
            "['MCD', 'IF', 'LOF', 'SVM', 'MCD_PCA', 'IF_PCA', 'LOF_PCA', 'SVM_PCA']\n",
            "[4675, 1986, 1908, 23375, 4675, 1934, 2611, 23371]\n"
          ],
          "name": "stdout"
        },
        {
          "output_type": "display_data",
          "data": {
            "image/png": "[encoded data removed]",
            "text/plain": [
              "<Figure size 576x504 with 1 Axes>"
            ]
          },
          "metadata": {
            "tags": [],
            "needs_background": "light"
          }
        }
      ]
    }
  ]
}